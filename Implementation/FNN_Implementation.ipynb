{
 "cells": [
  {
   "cell_type": "code",
   "execution_count": null,
   "metadata": {},
   "outputs": [],
   "source": [
    "import os\n",
    "import torch\n",
    "import torch.nn as nn\n",
    "import torch.nn.functional as F\n",
    "from tqdm.notebook import tqdm\n",
    "from torchvision.datasets import ImageFolder\n",
    "from torchvision.transforms import ToTensor\n",
    "from torchvision.utils import make_grid\n",
    "from torch.utils.data import random_split\n",
    "from torch.utils.data.dataloader import DataLoader\n",
    "import matplotlib.pyplot as plt\n",
    "from torchvision.transforms import Resize\n",
    "from torchvision import transforms\n",
    "from torchvision.datasets import ImageFolder\n",
    "%matplotlib inline"
   ]
  },
  {
   "cell_type": "code",
   "execution_count": null,
   "metadata": {},
   "outputs": [],
   "source": [
    "dataset_path = './input/fruits/fruits-360/Training'\n",
    "test_path = './input/fruits/fruits-360/Test'\n",
    "print(os.listdir(dataset_path))\n",
    "print(os.listdir(test_path))\n",
    "print(torch.cuda.is_available())"
   ]
  },
  {
   "cell_type": "code",
   "execution_count": null,
   "metadata": {},
   "outputs": [],
   "source": [
    "image_size = 50\n",
    "\n",
    "fruit_data = ImageFolder(dataset_path, transform = transforms.Compose([\n",
    "    Resize((image_size, image_size)),\n",
    "    ToTensor()\n",
    "]))\n",
    "\n",
    "fruit_test = ImageFolder(test_path, transform = transforms.Compose([\n",
    "    Resize((image_size, image_size)),\n",
    "    ToTensor()\n",
    "]))"
   ]
  },
  {
   "cell_type": "code",
   "execution_count": null,
   "metadata": {},
   "outputs": [],
   "source": [
    "torch.manual_seed(20)\n",
    "validation_length = len(fruit_data) // 10\n",
    "training_length = len(fruit_data) - validation_length"
   ]
  },
  {
   "cell_type": "code",
   "execution_count": null,
   "metadata": {},
   "outputs": [],
   "source": [
    "training_dataset, validation_dataset = random_split(fruit_data, [training_length, validation_length])\n",
    "print(len(training_dataset))\n",
    "print(len(validation_dataset))"
   ]
  },
  {
   "cell_type": "code",
   "execution_count": null,
   "metadata": {},
   "outputs": [],
   "source": [
    "batch_length = 32\n",
    "training_loader = DataLoader(training_dataset, batch_length, shuffle = True, num_workers = 4, pin_memory = True)\n",
    "validation_loader = DataLoader(validation_dataset, batch_length * 2, num_workers = 4, pin_memory = True)  \n",
    "test_loader = DataLoader(fruit_test, batch_length * 2, num_workers = 4, pin_memory = True)"
   ]
  },
  {
   "cell_type": "code",
   "execution_count": null,
   "metadata": {},
   "outputs": [],
   "source": [
    "device = None\n",
    "if torch.cuda.is_available():\n",
    "    device = torch.device('cuda')\n",
    "else:\n",
    "    device = torch.device('cpu')\n",
    "\n",
    "print(device)"
   ]
  },
  {
   "cell_type": "code",
   "execution_count": null,
   "metadata": {},
   "outputs": [],
   "source": [
    "def move_to_device(data, device):\n",
    "    if (isinstance(data, (list, tuple))):\n",
    "        return [move_to_device(d, device) for d in data]\n",
    "    \n",
    "    return data.to(device, non_blocking=True)"
   ]
  },
  {
   "cell_type": "code",
   "execution_count": null,
   "metadata": {},
   "outputs": [],
   "source": [
    "class DeviceLoader():\n",
    "    def __init__(self, dataloader, device):\n",
    "        self.dataloader = dataloader\n",
    "        self.device = device\n",
    "\n",
    "    def __iter__(self):\n",
    "        for d in self.dataloader:\n",
    "            yield move_to_device(d, self.device)\n",
    "\n",
    "    def __len__(self):\n",
    "        return len(self.dataloader)"
   ]
  },
  {
   "cell_type": "code",
   "execution_count": null,
   "metadata": {},
   "outputs": [],
   "source": [
    "training_loader = DeviceLoader(training_loader, device)\n",
    "validation_loader = DeviceLoader(validation_loader, device)\n",
    "test_loader = DeviceLoader(test_loader, device)"
   ]
  },
  {
   "cell_type": "code",
   "execution_count": null,
   "metadata": {},
   "outputs": [],
   "source": [
    "def calc_accuracy(outputs, labels):\n",
    "    _, preds = torch.max(outputs, dim = 1)\n",
    "    return torch.tensor(torch.sum(preds == labels).item() / len(preds))"
   ]
  },
  {
   "cell_type": "code",
   "execution_count": null,
   "metadata": {},
   "outputs": [],
   "source": [
    "class Classification(nn.Module):\n",
    "    def train_batch(self, batch):\n",
    "        images, labels = batch\n",
    "        outputs = self(images)\n",
    "        loss = F.cross_entropy(outputs, labels)\n",
    "        return loss\n",
    "    \n",
    "    def validate_batch(self, batch):\n",
    "        images, labels = batch\n",
    "        outputs = self(images)\n",
    "        loss = F.cross_entropy(outputs, labels)\n",
    "        accuracy = calc_accuracy(outputs, labels)\n",
    "        return {'validation_loss': loss.detach(), 'validation_accuracy': accuracy}\n",
    "    \n",
    "    def calc_validation_epoch(self, outputs):\n",
    "        batch_losses = [o['validation_loss'] for o in outputs]\n",
    "        epoch_loss = torch.stack(batch_losses).mean() \n",
    "        batch_accs = [o['validation_accuracy'] for o in outputs]\n",
    "        epoch_accuracy = torch.stack(batch_accs).mean()\n",
    "        return {'validation_loss': epoch_loss.item(), 'validation_accuracy': epoch_accuracy.item()}\n",
    "    \n",
    "    def print_epoch_result(self, epoch, result):\n",
    "        print(\"Epoch [{}], training_loss: {:.4f}, validation_loss: {:.4f}, validation_accuracy: {:.4f}\".format(\n",
    "            epoch, result['training_loss'], result['validation_loss'], result['validation_accuracy']))"
   ]
  },
  {
   "cell_type": "code",
   "execution_count": null,
   "metadata": {},
   "outputs": [],
   "source": [
    "class Model(Classification):\n",
    "    def __init__(self, input_length, output_length):\n",
    "        super().__init__()\n",
    "        self.in_layer = nn.Linear(input_length, 512)\n",
    "        self.hidden1 = nn.Linear(512, 256)\n",
    "        self.hidden2 = nn.Linear(256, 128)\n",
    "        self.hidden3 = nn.Linear(128, 64)\n",
    "        self.out_layer = nn.Linear(64, output_length)\n",
    "\n",
    "    def forward(self, xb):\n",
    "        # Flatten images into vectors\n",
    "        output = xb.view(xb.size(0), -1)\n",
    "        # Apply layers & activation functions\n",
    "        # Input layer\n",
    "        output = self.in_layer(output)\n",
    "        output = F.relu(output)\n",
    "        # Hidden layers w/ ReLU\n",
    "        output = self.hidden1(output)\n",
    "        output = F.relu(output)\n",
    "        output = self.hidden2(output)\n",
    "        output = F.relu(output)\n",
    "        output = self.hidden3(output)\n",
    "        output = F.relu(output)\n",
    "        # Class output layer\n",
    "        output = self.out_layer(output)\n",
    "        return output"
   ]
  },
  {
   "cell_type": "code",
   "execution_count": null,
   "metadata": {},
   "outputs": [],
   "source": [
    "image, label = fruit_data[0]\n",
    "print(image.shape)"
   ]
  },
  {
   "cell_type": "code",
   "execution_count": null,
   "metadata": {},
   "outputs": [],
   "source": [
    "input_length = 3*50*50\n",
    "output_length = len(os.listdir(dataset_path))"
   ]
  },
  {
   "cell_type": "code",
   "execution_count": null,
   "metadata": {},
   "outputs": [],
   "source": [
    "model = move_to_device(Model(input_length, output_length), device)"
   ]
  },
  {
   "cell_type": "code",
   "execution_count": null,
   "metadata": {},
   "outputs": [],
   "source": [
    "def verify(model, validation_loader):\n",
    "    outputs = [model.validate_batch(batch) for batch in validation_loader]\n",
    "    return model.calc_validation_epoch(outputs)"
   ]
  },
  {
   "cell_type": "code",
   "execution_count": null,
   "metadata": {},
   "outputs": [],
   "source": [
    "training_model = [verify(model, validation_loader)]"
   ]
  },
  {
   "cell_type": "code",
   "execution_count": null,
   "metadata": {},
   "outputs": [],
   "source": [
    "def learn_model(epochs, learing_rate, model, training_loader, validation_loader, opt_func=torch.optim.Adam):\n",
    "    tm = []\n",
    "    optimizer = opt_func(model.parameters(), learing_rate)\n",
    "    for epoch in range(epochs):\n",
    "        # Training Phase \n",
    "        model.train()\n",
    "        training_losses = []\n",
    "        for batch in tqdm(training_loader):\n",
    "            loss = model.train_batch(batch)\n",
    "            training_losses.append(loss)\n",
    "            loss.backward()\n",
    "            optimizer.step()\n",
    "            optimizer.zero_grad()\n",
    "        # Validation phase\n",
    "        result = verify(model, validation_loader)\n",
    "        result['training_loss'] = torch.stack(training_losses).mean().item()\n",
    "        model.print_epoch_result(epoch, result)\n",
    "        tm.append(result)\n",
    "    return tm"
   ]
  },
  {
   "cell_type": "code",
   "execution_count": null,
   "metadata": {},
   "outputs": [],
   "source": [
    "def draw_accuracy_plot(training_model):\n",
    "    accuracies = [x['validation_accuracy'] for x in training_model]\n",
    "    plt.plot(accuracies, '-x')\n",
    "    plt.xlabel('epoch')\n",
    "    plt.ylabel('accuracy')\n",
    "    plt.show()"
   ]
  },
  {
   "cell_type": "code",
   "execution_count": null,
   "metadata": {},
   "outputs": [],
   "source": [
    "def draw_losses_plot(training_model):\n",
    "    training_losses = [x.get('training_loss') for x in training_model]\n",
    "    validation_losses = [x['validation_loss'] for x in training_model]\n",
    "    plt.plot(training_losses, '-bx')\n",
    "    plt.plot(validation_losses, '-rx')\n",
    "    plt.xlabel('epoch')\n",
    "    plt.ylabel('loss')\n",
    "    plt.legend(['Training', 'Validation'])\n",
    "    plt.show()"
   ]
  },
  {
   "cell_type": "code",
   "execution_count": null,
   "metadata": {},
   "outputs": [],
   "source": [
    "training_model += learn_model(4, 0.1, model, training_loader, validation_loader, torch.optim.SGD)"
   ]
  },
  {
   "cell_type": "code",
   "execution_count": null,
   "metadata": {},
   "outputs": [],
   "source": [
    "training_model += learn_model(4, 0.01, model, training_loader, validation_loader, torch.optim.SGD)"
   ]
  },
  {
   "cell_type": "code",
   "execution_count": null,
   "metadata": {},
   "outputs": [],
   "source": [
    "training_model += learn_model(4, 0.001, model, training_loader, validation_loader, torch.optim.SGD)"
   ]
  },
  {
   "cell_type": "code",
   "execution_count": null,
   "metadata": {},
   "outputs": [],
   "source": [
    "training_model += learn_model(3, 0.0001, model, training_loader, validation_loader, torch.optim.SGD)"
   ]
  },
  {
   "cell_type": "code",
   "execution_count": null,
   "metadata": {},
   "outputs": [],
   "source": [
    "draw_losses_plot(training_model)"
   ]
  },
  {
   "cell_type": "code",
   "execution_count": null,
   "metadata": {},
   "outputs": [],
   "source": [
    "draw_accuracy_plot(training_model)"
   ]
  },
  {
   "cell_type": "code",
   "execution_count": null,
   "metadata": {},
   "outputs": [],
   "source": [
    "verify(model, test_loader)"
   ]
  }
 ],
 "metadata": {
  "language_info": {
   "name": "python"
  },
  "orig_nbformat": 4
 },
 "nbformat": 4,
 "nbformat_minor": 2
}
